{
  "nbformat": 4,
  "nbformat_minor": 0,
  "metadata": {
    "colab": {
      "provenance": [],
      "authorship_tag": "ABX9TyPnUFoqOuwygFCUiv+rIKQ3",
      "include_colab_link": true
    },
    "kernelspec": {
      "name": "python3",
      "display_name": "Python 3"
    },
    "language_info": {
      "name": "python"
    }
  },
  "cells": [
    {
      "cell_type": "markdown",
      "metadata": {
        "id": "view-in-github",
        "colab_type": "text"
      },
      "source": [
        "<a href=\"https://colab.research.google.com/github/ramcharanpavanteja/FML/blob/main/tokens.ipynb\" target=\"_parent\"><img src=\"https://colab.research.google.com/assets/colab-badge.svg\" alt=\"Open In Colab\"/></a>"
      ]
    },
    {
      "cell_type": "code",
      "execution_count": 3,
      "metadata": {
        "colab": {
          "base_uri": "https://localhost:8080/"
        },
        "id": "-9Bn-IwfymRA",
        "outputId": "117472a9-112b-4e92-af4d-97b483650f05"
      },
      "outputs": [
        {
          "output_type": "stream",
          "name": "stdout",
          "text": [
            "['a', 'group', 'of', 'words,', 'usually', 'containing', 'a', 'verb,', 'that', 'expresses', 'a', 'thought', 'in', 'the', 'form', '.', 'of', 'a', 'statement,', 'question,', 'instruction,', 'or', 'exclamation', 'and', 'starts', 'with', 'a', 'capital', 'letter', 'when', 'written:']\n",
            "31\n"
          ]
        }
      ],
      "source": [
        "text = \"\"\"a group of words, usually containing a verb, that expresses a thought in the form . of a statement, question, instruction, or exclamation and starts with a capital letter when written: \"\"\"\n",
        "tokens = text.split()\n",
        "print(tokens)\n",
        "print(len(tokens))"
      ]
    },
    {
      "cell_type": "code",
      "source": [
        "tokens = text.split('.')\n",
        "print(tokens)\n",
        "print(len(tokens))"
      ],
      "metadata": {
        "colab": {
          "base_uri": "https://localhost:8080/"
        },
        "id": "0tzkhgg1zCWr",
        "outputId": "57515b28-3956-4157-c1ff-7a07dbb750c0"
      },
      "execution_count": 4,
      "outputs": [
        {
          "output_type": "stream",
          "name": "stdout",
          "text": [
            "['a group of words, usually containing a verb, that expresses a thought in the form ', ' of a statement, question, instruction, or exclamation and starts with a capital letter when written: ']\n",
            "2\n"
          ]
        }
      ]
    },
    {
      "cell_type": "markdown",
      "source": [
        "using Re"
      ],
      "metadata": {
        "id": "27nr1Pg3zSYp"
      }
    },
    {
      "cell_type": "code",
      "source": [
        "import re\n",
        "tokens = re.findall(\"[\\w]+\",text)\n",
        "print(tokens)\n",
        "print(len(tokens))"
      ],
      "metadata": {
        "colab": {
          "base_uri": "https://localhost:8080/"
        },
        "id": "ej97ZzRxzKiT",
        "outputId": "45a22d76-ffbe-4c19-87af-8d94d1dc0672"
      },
      "execution_count": 6,
      "outputs": [
        {
          "output_type": "stream",
          "name": "stdout",
          "text": [
            "['a', 'group', 'of', 'words', 'usually', 'containing', 'a', 'verb', 'that', 'expresses', 'a', 'thought', 'in', 'the', 'form', 'of', 'a', 'statement', 'question', 'instruction', 'or', 'exclamation', 'and', 'starts', 'with', 'a', 'capital', 'letter', 'when', 'written']\n",
            "30\n"
          ]
        }
      ]
    },
    {
      "cell_type": "code",
      "source": [
        "tokens = re.compile('[.!?]').split(text)\n",
        "print(tokens)\n",
        "print(len(tokens))"
      ],
      "metadata": {
        "colab": {
          "base_uri": "https://localhost:8080/"
        },
        "id": "zmNZ2tlYzjsn",
        "outputId": "a2b4a638-093f-4282-c9b0-80ccfb2915df"
      },
      "execution_count": 10,
      "outputs": [
        {
          "output_type": "stream",
          "name": "stdout",
          "text": [
            "['a group of words, usually containing a verb, that expresses a thought in the form ', ' of a statement, question, instruction, or exclamation and starts with a capital letter when written: ']\n",
            "2\n"
          ]
        }
      ]
    },
    {
      "cell_type": "markdown",
      "source": [
        "using word_tokens,sent_tokens"
      ],
      "metadata": {
        "id": "WU1Qy2ix0M0B"
      }
    },
    {
      "cell_type": "code",
      "source": [
        "from nltk.tokenize import word_tokenize\n",
        "import nltk\n",
        "nltk.download('punkt')"
      ],
      "metadata": {
        "colab": {
          "base_uri": "https://localhost:8080/"
        },
        "id": "xqxrVTsu0u9g",
        "outputId": "2dd02262-14c0-49ad-94f3-97ac4afe31c9"
      },
      "execution_count": 16,
      "outputs": [
        {
          "output_type": "stream",
          "name": "stderr",
          "text": [
            "[nltk_data] Downloading package punkt to /root/nltk_data...\n",
            "[nltk_data]   Package punkt is already up-to-date!\n"
          ]
        },
        {
          "output_type": "execute_result",
          "data": {
            "text/plain": [
              "True"
            ]
          },
          "metadata": {},
          "execution_count": 16
        }
      ]
    },
    {
      "cell_type": "code",
      "source": [
        "tokens = word_tokenize(text)\n",
        "print(tokens)\n",
        "print(len(tokens))"
      ],
      "metadata": {
        "colab": {
          "base_uri": "https://localhost:8080/"
        },
        "id": "eSV5iwC3zy1b",
        "outputId": "fcbf9b67-fb3a-4496-8dff-c2d43fd33ec6"
      },
      "execution_count": 17,
      "outputs": [
        {
          "output_type": "stream",
          "name": "stdout",
          "text": [
            "['a', 'group', 'of', 'words', ',', 'usually', 'containing', 'a', 'verb', ',', 'that', 'expresses', 'a', 'thought', 'in', 'the', 'form', '.', 'of', 'a', 'statement', ',', 'question', ',', 'instruction', ',', 'or', 'exclamation', 'and', 'starts', 'with', 'a', 'capital', 'letter', 'when', 'written', ':']\n",
            "37\n"
          ]
        }
      ]
    },
    {
      "cell_type": "code",
      "source": [
        "from nltk.tokenize import sent_tokenize\n",
        "tokens = sent_tokenize(text)\n",
        "print(tokens)\n",
        "print(len(tokens))"
      ],
      "metadata": {
        "colab": {
          "base_uri": "https://localhost:8080/"
        },
        "id": "k-A63_UY0ZdC",
        "outputId": "34c62400-3092-42ba-f1bf-df6117e67c3f"
      },
      "execution_count": 18,
      "outputs": [
        {
          "output_type": "stream",
          "name": "stdout",
          "text": [
            "['a group of words, usually containing a verb, that expresses a thought in the form .', 'of a statement, question, instruction, or exclamation and starts with a capital letter when written:']\n",
            "2\n"
          ]
        }
      ]
    },
    {
      "cell_type": "code",
      "source": [],
      "metadata": {
        "id": "ZMNgFIuc1BmC"
      },
      "execution_count": null,
      "outputs": []
    }
  ]
}