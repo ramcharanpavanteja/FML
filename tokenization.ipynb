{
  "nbformat": 4,
  "nbformat_minor": 0,
  "metadata": {
    "colab": {
      "provenance": [],
      "authorship_tag": "ABX9TyN7PUd8iGLE81qUuPgHIRE4",
      "include_colab_link": true
    },
    "kernelspec": {
      "name": "python3",
      "display_name": "Python 3"
    },
    "language_info": {
      "name": "python"
    }
  },
  "cells": [
    {
      "cell_type": "markdown",
      "metadata": {
        "id": "view-in-github",
        "colab_type": "text"
      },
      "source": [
        "<a href=\"https://colab.research.google.com/github/ramcharanpavanteja/FML/blob/main/tokenization.ipynb\" target=\"_parent\"><img src=\"https://colab.research.google.com/assets/colab-badge.svg\" alt=\"Open In Colab\"/></a>"
      ]
    },
    {
      "cell_type": "markdown",
      "source": [
        "WORD TOKENIZATION USING SPLIT()"
      ],
      "metadata": {
        "id": "uaGaaLCmY71B"
      }
    },
    {
      "cell_type": "code",
      "execution_count": 4,
      "metadata": {
        "colab": {
          "base_uri": "https://localhost:8080/"
        },
        "id": "GLXpEFC5X2t8",
        "outputId": "84a0686e-34ca-43f9-fb67-db25300131b9"
      },
      "outputs": [
        {
          "output_type": "stream",
          "name": "stdout",
          "text": [
            "['Once', 'upon', 'a', 'time', 'in', 'a', 'quaint', 'village', 'nestled', 'between', 'rolling', 'hills,', 'there', 'lived', 'a', 'young', 'girl', 'named', 'Lily.', 'She', 'had', 'always', 'dreamed', 'of', 'exploring', 'the', 'enchanted', 'forest', 'beyond', 'the', 'village,', 'but', 'tales', 'of', 'mystical', 'creatures', 'and', 'dark', 'magic', 'kept', 'her', 'from', 'venturing', 'too', 'far.', 'One', 'sunny', 'morning,', 'fueled', 'by', 'curiosity', 'and', 'bravery,', 'Lily', 'decided', 'to', 'embark', 'on', 'her', 'adventure,', 'leaving', 'behind', 'the', 'safety', 'of', 'her', 'home.', 'As', 'she', 'delved', 'deeper', 'into', 'the', \"forest's\", 'lush', 'greenery,', 'she', 'stumbled', 'upon', 'a', 'hidden', 'glade', 'where', 'she', 'encountered', 'a', 'friendly', 'fox', 'who', 'guided', 'her', 'safely', 'back', 'home,', 'her', 'heart', 'filled', 'with', 'wonder', 'and', 'tales', 'to', 'tell.', 'From', 'that', 'day', 'forth,', 'Lily', 'cherished', 'the', 'memories', 'of', 'her', 'daring', 'journey,', 'forever', 'grateful', 'for', 'the', 'magical', 'encounter', 'that', 'sparked', 'her', 'adventurous', 'spirit.']\n",
            "no. of tokens : 126\n"
          ]
        }
      ],
      "source": [
        "tokens = '''Once upon a time in a quaint village nestled between rolling hills, there lived a young girl named Lily. She had always dreamed of exploring the enchanted forest beyond the village, but tales of mystical creatures and dark magic kept her from venturing too far. One sunny morning, fueled by curiosity and bravery, Lily decided to embark on her adventure, leaving behind the safety of her home. As she delved deeper into the forest's lush greenery, she stumbled upon a hidden glade where she encountered a friendly fox who guided her safely back home, her heart filled with wonder and tales to tell. From that day forth, Lily cherished the memories of her daring journey, forever grateful for the magical encounter that sparked her adventurous spirit. '''\n",
        "tokens = tokens.split()\n",
        "print(tokens)\n",
        "print('no. of tokens :',len(tokens))"
      ]
    },
    {
      "cell_type": "markdown",
      "source": [
        "SENTENCE TOKENIZATION USING SPLIT()"
      ],
      "metadata": {
        "id": "Hx_9LQ9RZGB5"
      }
    },
    {
      "cell_type": "code",
      "source": [
        "tokens = '''Once upon a time in a quaint village nestled between rolling hills, there lived a young girl named Lily. She had always dreamed of exploring the enchanted forest beyond the village, but tales of mystical creatures and dark magic kept her from venturing too far. One sunny morning, fueled by curiosity and bravery, Lily decided to embark on her adventure, leaving behind the safety of her home. As she delved deeper into the forest's lush greenery, she stumbled upon a hidden glade where she encountered a friendly fox who guided her safely back home, her heart filled with wonder and tales to tell. From that day forth, Lily cherished the memories of her daring journey, forever grateful for the magical encounter that sparked her adventurous spirit. '''\n",
        "sentence = tokens.split('.')\n",
        "print(sentence)\n",
        "print(\"no of sentences : \",len(sentence))"
      ],
      "metadata": {
        "colab": {
          "base_uri": "https://localhost:8080/"
        },
        "id": "zH-UCvpgYkMQ",
        "outputId": "edf57e7a-9e2b-426b-ad4a-278212bb566b"
      },
      "execution_count": 11,
      "outputs": [
        {
          "output_type": "stream",
          "name": "stdout",
          "text": [
            "['Once upon a time in a quaint village nestled between rolling hills, there lived a young girl named Lily', ' She had always dreamed of exploring the enchanted forest beyond the village, but tales of mystical creatures and dark magic kept her from venturing too far', ' One sunny morning, fueled by curiosity and bravery, Lily decided to embark on her adventure, leaving behind the safety of her home', \" As she delved deeper into the forest's lush greenery, she stumbled upon a hidden glade where she encountered a friendly fox who guided her safely back home, her heart filled with wonder and tales to tell\", ' From that day forth, Lily cherished the memories of her daring journey, forever grateful for the magical encounter that sparked her adventurous spirit', ' ']\n",
            "no of sentences :  6\n"
          ]
        }
      ]
    },
    {
      "cell_type": "code",
      "source": [],
      "metadata": {
        "id": "ZDrKsillZTHC"
      },
      "execution_count": null,
      "outputs": []
    },
    {
      "cell_type": "markdown",
      "source": [
        "TOKENIZATION USING REGULAR EXPRESSION"
      ],
      "metadata": {
        "id": "yxNzu9MpaBZi"
      }
    },
    {
      "cell_type": "code",
      "source": [
        "import re\n",
        "tokens = re.findall(\"['\\w']+\",tokens)"
      ],
      "metadata": {
        "id": "5HD39MTNaKoa"
      },
      "execution_count": null,
      "outputs": []
    }
  ]
}