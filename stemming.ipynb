{
  "nbformat": 4,
  "nbformat_minor": 0,
  "metadata": {
    "colab": {
      "provenance": [],
      "authorship_tag": "ABX9TyOJjS9kbtYNzYiyzejAg9aj",
      "include_colab_link": true
    },
    "kernelspec": {
      "name": "python3",
      "display_name": "Python 3"
    },
    "language_info": {
      "name": "python"
    }
  },
  "cells": [
    {
      "cell_type": "markdown",
      "metadata": {
        "id": "view-in-github",
        "colab_type": "text"
      },
      "source": [
        "<a href=\"https://colab.research.google.com/github/ramcharanpavanteja/FML/blob/main/stemming.ipynb\" target=\"_parent\"><img src=\"https://colab.research.google.com/assets/colab-badge.svg\" alt=\"Open In Colab\"/></a>"
      ]
    },
    {
      "cell_type": "code",
      "execution_count": 6,
      "metadata": {
        "colab": {
          "base_uri": "https://localhost:8080/"
        },
        "id": "WdtsCo42onhx",
        "outputId": "ad7b0e64-a105-4e8a-fc62-cb9004a5d8bc"
      },
      "outputs": [
        {
          "output_type": "stream",
          "name": "stderr",
          "text": [
            "[nltk_data] Downloading package punkt to /root/nltk_data...\n",
            "[nltk_data]   Unzipping tokenizers/punkt.zip.\n"
          ]
        },
        {
          "output_type": "execute_result",
          "data": {
            "text/plain": [
              "True"
            ]
          },
          "metadata": {},
          "execution_count": 6
        }
      ],
      "source": [
        "from nltk.stem import PorterStemmer\n",
        "from nltk.tokenize import word_tokenize\n",
        "import nltk\n",
        "nltk.download('punkt')"
      ]
    },
    {
      "cell_type": "code",
      "source": [
        "porter = PorterStemmer()"
      ],
      "metadata": {
        "id": "iPoRXxiJqO0e"
      },
      "execution_count": 12,
      "outputs": []
    },
    {
      "cell_type": "code",
      "source": [
        "sentence = \"pythoners are doing python to learn python for pythoing the pythones\"\n",
        "\n",
        "def stemsentence(sentence):\n",
        "  word_tokens = word_tokenize(sentence)\n",
        "  print(word_tokens)\n",
        "  stemwords = []\n",
        "  for words in word_tokens:\n",
        "    stemwords.append(porter.stem(words))\n",
        "    stemwords.append(\" \")\n",
        "  return \" \".join(stemwords)\n"
      ],
      "metadata": {
        "id": "YZMadzcmpm7b"
      },
      "execution_count": 13,
      "outputs": []
    },
    {
      "cell_type": "code",
      "source": [
        "x = stemsentence(sentence)\n",
        "print(x)"
      ],
      "metadata": {
        "colab": {
          "base_uri": "https://localhost:8080/"
        },
        "id": "VRUDXAkvqyVW",
        "outputId": "78b5edc5-68f1-4f84-f0aa-b487191a81d5"
      },
      "execution_count": 14,
      "outputs": [
        {
          "output_type": "stream",
          "name": "stdout",
          "text": [
            "['pythoners', 'are', 'doing', 'python', 'to', 'learn', 'python', 'for', 'pythoing', 'the', 'pythones']\n",
            "python   are   do   python   to   learn   python   for   pytho   the   python  \n"
          ]
        }
      ]
    },
    {
      "cell_type": "code",
      "source": [],
      "metadata": {
        "id": "FO1T-utkq3ac"
      },
      "execution_count": null,
      "outputs": []
    }
  ]
}