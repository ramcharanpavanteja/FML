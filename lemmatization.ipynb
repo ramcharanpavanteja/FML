{
  "nbformat": 4,
  "nbformat_minor": 0,
  "metadata": {
    "colab": {
      "provenance": [],
      "authorship_tag": "ABX9TyNg5cAWpoAmbmYxGBON4YRb",
      "include_colab_link": true
    },
    "kernelspec": {
      "name": "python3",
      "display_name": "Python 3"
    },
    "language_info": {
      "name": "python"
    }
  },
  "cells": [
    {
      "cell_type": "markdown",
      "metadata": {
        "id": "view-in-github",
        "colab_type": "text"
      },
      "source": [
        "<a href=\"https://colab.research.google.com/github/ramcharanpavanteja/FML/blob/main/lemmatization.ipynb\" target=\"_parent\"><img src=\"https://colab.research.google.com/assets/colab-badge.svg\" alt=\"Open In Colab\"/></a>"
      ]
    },
    {
      "cell_type": "code",
      "execution_count": 10,
      "metadata": {
        "colab": {
          "base_uri": "https://localhost:8080/"
        },
        "id": "PLzj-Rcjsc-v",
        "outputId": "6360582c-3cc4-46d3-a29d-42caa82cbfde"
      },
      "outputs": [
        {
          "output_type": "stream",
          "name": "stderr",
          "text": [
            "[nltk_data] Downloading package wordnet to /root/nltk_data...\n"
          ]
        },
        {
          "output_type": "execute_result",
          "data": {
            "text/plain": [
              "True"
            ]
          },
          "metadata": {},
          "execution_count": 10
        }
      ],
      "source": [
        "import nltk\n",
        "from nltk.stem import WordNetLemmatizer\n",
        "nltk.download('wordnet')"
      ]
    },
    {
      "cell_type": "code",
      "source": [
        "lemmatizer = WordNetLemmatizer()"
      ],
      "metadata": {
        "id": "_HGk6gwgsm97"
      },
      "execution_count": 11,
      "outputs": []
    },
    {
      "cell_type": "code",
      "source": [
        "sentence = \"What are you doing at there.Iam playing with my friends and going for outing tommorow\"\n",
        "from nltk import word_tokenize\n",
        "def lemmatize(sentence):\n",
        "  word_tokens = word_tokenize(sentence)\n",
        "  print(word_tokens)\n",
        "  lemmatize_sent = []\n",
        "  for word in word_tokens:\n",
        "    lemmatize_sent.append(lemmatizer.lemmatize(word))\n",
        "    lemmatize_sent.append(\" \")\n",
        "  return \" \".join(lemmatize_sent)\n",
        "\n",
        "x = lemmatize(sentence)\n",
        "print(x)\n"
      ],
      "metadata": {
        "colab": {
          "base_uri": "https://localhost:8080/"
        },
        "id": "NQE9yjkPs0Nw",
        "outputId": "d4b30d29-5064-4946-d637-3e55f9996a41"
      },
      "execution_count": 12,
      "outputs": [
        {
          "output_type": "stream",
          "name": "stdout",
          "text": [
            "['What', 'are', 'you', 'doing', 'at', 'there.Iam', 'playing', 'with', 'my', 'friends', 'and', 'going', 'for', 'outing', 'tommorow']\n",
            "What   are   you   doing   at   there.Iam   playing   with   my   friend   and   going   for   outing   tommorow  \n"
          ]
        }
      ]
    },
    {
      "cell_type": "code",
      "source": [],
      "metadata": {
        "id": "wiYYv9y8uJww"
      },
      "execution_count": null,
      "outputs": []
    }
  ]
}